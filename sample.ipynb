{
 "cells": [
  {
   "cell_type": "code",
   "id": "initial_id",
   "metadata": {
    "collapsed": true,
    "ExecuteTime": {
     "end_time": "2025-07-15T03:48:22.201937Z",
     "start_time": "2025-07-15T03:48:22.197001Z"
    }
   },
   "source": [
    "import os\n",
    "import re\n",
    "import time\n",
    "from pathlib import Path\n",
    "from typing import List\n",
    "\n",
    "from openai import OpenAI\n",
    "from openai.types.chat import ChatCompletionMessageParam, ChatCompletionSystemMessageParam, \\\n",
    "    ChatCompletionUserMessageParam, ChatCompletionAssistantMessageParam\n",
    "from openai.types.vector_store_create_params import ExpiresAfter  # ★追加\n",
    "\n",
    "from datasets import load_dataset\n",
    "import pandas as pd, tempfile, textwrap\n",
    "from pydantic import BaseModel, Field\n",
    "from tqdm import tqdm\n",
    "\n",
    "txt =\"\"\"How can I create an account?\tTo create an account, click on the 'Sign Up' button on the top right corner of our website and follow the instructions to complete the registration process.\"\"\"\n",
    "\n",
    "\n",
    "def preprocess_faq_text(text):\n",
    "    # 1. 基本クリーニング\n",
    "    text = text.strip()\n",
    "\n",
    "    # 2. FAQ特有の前処理\n",
    "    # \"Q:\" \"A:\" などのプレフィックス統一\n",
    "    text = re.sub(r'^[QA][:：]\\s*', '', text)\n",
    "    text = re.sub(r'\\s+', ' ', text)\n",
    "\n",
    "    return text\n",
    "\n",
    "res = preprocess_faq_text(txt)\n",
    "\n",
    "print(res)\n"
   ],
   "outputs": [
    {
     "name": "stdout",
     "output_type": "stream",
     "text": [
      "How can I create an account? To create an account, click on the 'Sign Up' button on the top right corner of our website and follow the instructions to complete the registration process.\n"
     ]
    }
   ],
   "execution_count": 8
  },
  {
   "metadata": {},
   "cell_type": "code",
   "outputs": [],
   "execution_count": null,
   "source": "",
   "id": "74555adff91b9880"
  }
 ],
 "metadata": {
  "kernelspec": {
   "display_name": "Python 3",
   "language": "python",
   "name": "python3"
  },
  "language_info": {
   "codemirror_mode": {
    "name": "ipython",
    "version": 2
   },
   "file_extension": ".py",
   "mimetype": "text/x-python",
   "name": "python",
   "nbconvert_exporter": "python",
   "pygments_lexer": "ipython2",
   "version": "2.7.6"
  }
 },
 "nbformat": 4,
 "nbformat_minor": 5
}
